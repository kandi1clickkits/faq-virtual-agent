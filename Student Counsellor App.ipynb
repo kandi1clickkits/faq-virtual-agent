{
 "cells": [
  {
   "cell_type": "markdown",
   "id": "9010df09",
   "metadata": {},
   "source": [
    "###  Student Counsellor App"
   ]
  },
  {
   "cell_type": "markdown",
   "id": "1fd7c931",
   "metadata": {},
   "source": [
    "Student Counsellor App is based on a Virtual Assistant that understands the questions asked by students with the help of state-of-the-art Natual Language Processing techniques."
   ]
  },
  {
   "cell_type": "markdown",
   "id": "3de436fb",
   "metadata": {},
   "source": [
    "#### Variable"
   ]
  },
  {
   "cell_type": "markdown",
   "id": "fa0894e1",
   "metadata": {},
   "source": [
    "The <b>input</b> file is configured in the variable <b>INPUT_FAQ_PATH</b>"
   ]
  },
  {
   "cell_type": "code",
   "execution_count": 1,
   "id": "ac170aac",
   "metadata": {},
   "outputs": [],
   "source": [
    "INPUT_FAQ_PATH=r\"faqs.csv\""
   ]
  },
  {
   "cell_type": "markdown",
   "id": "b23df747",
   "metadata": {},
   "source": [
    "#### Import libraries to run the app"
   ]
  },
  {
   "cell_type": "code",
   "execution_count": 2,
   "id": "201ed609",
   "metadata": {},
   "outputs": [],
   "source": [
    "from virtual_agent import VAModel"
   ]
  },
  {
   "cell_type": "markdown",
   "id": "a9e1cc5e",
   "metadata": {},
   "source": [
    "#### Run the app"
   ]
  },
  {
   "cell_type": "code",
   "execution_count": 3,
   "id": "742b2906",
   "metadata": {
    "scrolled": true
   },
   "outputs": [
    {
     "name": "stdout",
     "output_type": "stream",
     "text": [
      "Ask a query(or type 'exit' to exit): tell me about\n"
     ]
    },
    {
     "name": "stderr",
     "output_type": "stream",
     "text": [
      "D:\\Program Files\\Python39\\lib\\site-packages\\lingualytics\\preprocessing.py:9: FutureWarning: The default value of regex will change from True to False in a future version.\n",
      "  return s.str.replace(rf\"([{punctuation}])+\", \" \")\n"
     ]
    },
    {
     "name": "stdout",
     "output_type": "stream",
     "text": [
      "Response: We are a passionate set of application focused techies. Wed love to hear from you on your feedback, questions, and any other comments.\n",
      "Direct Message us on Twitter Message @OpenWeaverInc\n",
      "You can email us at kandi.support@openweaver.com\n",
      "Join our Discord community here\n",
      "-----------------\n",
      "Ask a query(or type 'exit' to exit): exit\n"
     ]
    }
   ],
   "source": [
    "va_model = VAModel(INPUT_FAQ_PATH)\n",
    "va_model.train()\n",
    "va_model.run_app()"
   ]
  },
  {
   "cell_type": "code",
   "execution_count": null,
   "id": "32610f84",
   "metadata": {},
   "outputs": [],
   "source": []
  }
 ],
 "metadata": {
  "kernelspec": {
   "display_name": "Python 3 (ipykernel)",
   "language": "python",
   "name": "python3"
  },
  "language_info": {
   "codemirror_mode": {
    "name": "ipython",
    "version": 3
   },
   "file_extension": ".py",
   "mimetype": "text/x-python",
   "name": "python",
   "nbconvert_exporter": "python",
   "pygments_lexer": "ipython3",
   "version": "3.9.6"
  }
 },
 "nbformat": 4,
 "nbformat_minor": 5
}
